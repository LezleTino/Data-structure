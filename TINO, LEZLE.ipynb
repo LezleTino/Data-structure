{
 "cells": [
  {
   "cell_type": "code",
   "execution_count": 1,
   "id": "fa988502-7a1f-4bc0-a31a-d33e7b7fa9f1",
   "metadata": {},
   "outputs": [
    {
     "name": "stdout",
     "output_type": "stream",
     "text": [
      "(2, 3)\n",
      "2\n",
      "first_matrix\n",
      "[12  1 20]\n",
      "[ 5 12  9]\n"
     ]
    }
   ],
   "source": [
    "import numpy as np\n",
    "\n",
    "LAT = [12, 1, 20]\n",
    "ELI = [5, 12, 9]\n",
    "\n",
    "first_matrix_2d = np.array([[12, 1, 20], [5, 12, 9]])\n",
    "print(first_matrix_2d.shape)\n",
    "print(first_matrix_2d.ndim)\n",
    "\n",
    "first_matrix = first_matrix_2d\n",
    "\n",
    "print('first_matrix')\n",
    "for row in first_matrix:\n",
    "    print(row)"
   ]
  },
  {
   "cell_type": "code",
   "execution_count": 3,
   "id": "8512835a-c1dc-4c3a-b3aa-f83388daa63c",
   "metadata": {},
   "outputs": [
    {
     "name": "stdout",
     "output_type": "stream",
     "text": [
      "(2, 3)\n",
      "2\n",
      "second_matrix\n",
      "[2 0 2]\n",
      "[1 6 0]\n"
     ]
    }
   ],
   "source": [
    "2023-4-0o160 == [2, 0, 2]\n",
    "2023-4-0o160 == [1, 6, 0]\n",
    "\n",
    "second_matrix_2d = np.array([[2, 0, 2], [1, 6, 0]])\n",
    "print(second_matrix_2d.shape)\n",
    "print(second_matrix_2d.ndim)\n",
    "\n",
    "second_matrix = second_matrix_2d\n",
    "\n",
    "print('second_matrix')\n",
    "for row in second_matrix:\n",
    "    print(row)"
   ]
  },
  {
   "cell_type": "code",
   "execution_count": 4,
   "id": "299dd482-6225-4666-a076-e5880368749c",
   "metadata": {},
   "outputs": [
    {
     "name": "stdout",
     "output_type": "stream",
     "text": [
      "[[12  1 20]\n",
      " [ 5 12  9]]\n",
      "[[2 0 2]\n",
      " [1 6 0]]\n"
     ]
    }
   ],
   "source": [
    "print(first_matrix)\n",
    "print(second_matrix)"
   ]
  },
  {
   "cell_type": "code",
   "execution_count": 5,
   "id": "87c28198-2cfb-41a5-ac69-67b3c2e9b49b",
   "metadata": {},
   "outputs": [
    {
     "name": "stdout",
     "output_type": "stream",
     "text": [
      "third_matrix\n",
      "[14  1 22]\n",
      "[ 6 18  9]\n"
     ]
    }
   ],
   "source": [
    "array_first_matrix = np.array(first_matrix)\n",
    "array_second_matrix = np.array(second_matrix)\n",
    "\n",
    "third_matrix = (array_first_matrix + array_second_matrix)\n",
    "\n",
    "print('third_matrix')\n",
    "for row in third_matrix:\n",
    "    print(row)"
   ]
  },
  {
   "cell_type": "code",
   "execution_count": 6,
   "id": "a5413a74-032d-481b-98d2-be5a1a890edd",
   "metadata": {},
   "outputs": [
    {
     "name": "stdout",
     "output_type": "stream",
     "text": [
      "fourth_matrix\n",
      "[24  2 40]\n",
      "[10 24 18]\n"
     ]
    }
   ],
   "source": [
    "array_first_matrix = np.array(first_matrix)\n",
    "\n",
    "fourth_matrix = (array_first_matrix * 2)\n",
    "\n",
    "print('fourth_matrix')\n",
    "for row in fourth_matrix:\n",
    "    print(row)"
   ]
  },
  {
   "cell_type": "code",
   "execution_count": 7,
   "id": "d906d726-35f3-432a-928a-cc18b71dee1b",
   "metadata": {},
   "outputs": [
    {
     "name": "stdout",
     "output_type": "stream",
     "text": [
      "fifth_matrix\n",
      "[2 1]\n",
      "[0 6]\n",
      "[2 0]\n"
     ]
    }
   ],
   "source": [
    "second_matrix = np.array(second_matrix)\n",
    "second_matrix_T = second_matrix.T\n",
    "\n",
    "fifth_matrix = (second_matrix.T)\n",
    "\n",
    "print('fifth_matrix')\n",
    "for row in fifth_matrix:\n",
    "    print(row)"
   ]
  },
  {
   "cell_type": "code",
   "execution_count": 8,
   "id": "4fd890e9-18d0-4ca8-a975-2d973a03351c",
   "metadata": {},
   "outputs": [
    {
     "name": "stdout",
     "output_type": "stream",
     "text": [
      "third_matrix\n",
      "[2 1]\n",
      "[0 6]\n",
      "[2 0]\n"
     ]
    }
   ],
   "source": [
    "third_matrix = np.array(second_matrix)\n",
    "third_matrix_T = third_matrix.T\n",
    "\n",
    "third_matrix = third_matrix.T\n",
    "\n",
    "print('third_matrix')\n",
    "for row in third_matrix:\n",
    "    print(row)"
   ]
  },
  {
   "cell_type": "code",
   "execution_count": 10,
   "id": "ceecd286-2541-4def-89a9-820e78abad6a",
   "metadata": {},
   "outputs": [
    {
     "name": "stdout",
     "output_type": "stream",
     "text": [
      "sixth_matrix\n",
      "[4 1]\n",
      "[ 0 36]\n",
      "[4 0]\n"
     ]
    }
   ],
   "source": [
    "array_third_matrix = np.array(third_matrix)\n",
    "array_fifth_matrix = np.array(third_matrix)\n",
    "\n",
    "sixth_matrix = (array_third_matrix * array_fifth_matrix)\n",
    "\n",
    "print('sixth_matrix')\n",
    "for row in sixth_matrix:\n",
    "    print(row)"
   ]
  },
  {
   "cell_type": "code",
   "execution_count": 12,
   "id": "8b8e5163-d194-4a10-af91-5084b9156a4a",
   "metadata": {},
   "outputs": [
    {
     "name": "stdout",
     "output_type": "stream",
     "text": [
      "11\n"
     ]
    }
   ],
   "source": [
    "array_third_matrix = np.array(third_matrix)\n",
    "\n",
    "sum_third_matrix = np.sum(third_matrix)\n",
    "\n",
    "print(sum_third_matrix)"
   ]
  },
  {
   "cell_type": "code",
   "execution_count": 13,
   "id": "bb077c97-38d9-4d9d-b652-ea9d09148646",
   "metadata": {},
   "outputs": [
    {
     "name": "stdout",
     "output_type": "stream",
     "text": [
      "seventh_matrix\n",
      "[0. 0. 0.]\n",
      "[0. 0. 0.]\n"
     ]
    }
   ],
   "source": [
    "seventh_matrix = np.zeros ((2, 3))\n",
    "\n",
    "print('seventh_matrix')\n",
    "for row in seventh_matrix:\n",
    "    print(row)"
   ]
  },
  {
   "cell_type": "code",
   "execution_count": null,
   "id": "f2f4cb4f-fd9a-4836-8ef1-b533bc9635af",
   "metadata": {},
   "outputs": [],
   "source": []
  }
 ],
 "metadata": {
  "kernelspec": {
   "display_name": "Python 3 (ipykernel)",
   "language": "python",
   "name": "python3"
  },
  "language_info": {
   "codemirror_mode": {
    "name": "ipython",
    "version": 3
   },
   "file_extension": ".py",
   "mimetype": "text/x-python",
   "name": "python",
   "nbconvert_exporter": "python",
   "pygments_lexer": "ipython3",
   "version": "3.12.7"
  }
 },
 "nbformat": 4,
 "nbformat_minor": 5
}
